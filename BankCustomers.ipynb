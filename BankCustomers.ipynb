{
 "cells": [
  {
   "cell_type": "code",
   "execution_count": 18,
   "id": "tight-suite",
   "metadata": {},
   "outputs": [],
   "source": [
    "import pandas as pd\n",
    "import numpy as np"
   ]
  },
  {
   "cell_type": "code",
   "execution_count": 2,
   "id": "thousand-knife",
   "metadata": {},
   "outputs": [],
   "source": [
    "import pyodbc"
   ]
  },
  {
   "cell_type": "code",
   "execution_count": 4,
   "id": "cooked-numbers",
   "metadata": {},
   "outputs": [],
   "source": [
    "data = pd.read_csv ('https://github.com/anoohya23/bank-Customers/raw/master/P6-UK-Bank-Customers.csv')"
   ]
  },
  {
   "cell_type": "code",
   "execution_count": 5,
   "id": "heard-planner",
   "metadata": {},
   "outputs": [
    {
     "name": "stdout",
     "output_type": "stream",
     "text": [
      "      Customer ID       Name   Surname  Gender  Age            Region  \\\n",
      "0       100000001      Simon     Walsh    Male   21           England   \n",
      "1       400000002    Jasmine    Miller  Female   34  Northern Ireland   \n",
      "2       100000003       Liam     Brown    Male   46           England   \n",
      "3       300000004     Trevor      Parr    Male   32             Wales   \n",
      "4       100000005    Deirdre   Pullman  Female   38           England   \n",
      "...           ...        ...       ...     ...  ...               ...   \n",
      "4009    200004010        Sam     Lewis    Male   64          Scotland   \n",
      "4010    200004011      Keith    Hughes    Male   52          Scotland   \n",
      "4011    200004012     Hannah  Springer  Female   50          Scotland   \n",
      "4012    200004013  Christian      Reid    Male   51          Scotland   \n",
      "4013    300004014    Stephen       May    Male   33             Wales   \n",
      "\n",
      "     Job Classification Date Joined    Balance  \n",
      "0          White Collar   05.Jan.15  113810.15  \n",
      "1           Blue Collar   06.Jan.15   36919.73  \n",
      "2          White Collar   07.Jan.15  101536.83  \n",
      "3          White Collar   08.Jan.15    1421.52  \n",
      "4           Blue Collar   09.Jan.15   35639.79  \n",
      "...                 ...         ...        ...  \n",
      "4009              Other   30.Dec.15   19711.66  \n",
      "4010        Blue Collar   30.Dec.15   56069.72  \n",
      "4011              Other   30.Dec.15   59477.82  \n",
      "4012        Blue Collar   30.Dec.15     239.45  \n",
      "4013        Blue Collar   30.Dec.15   30293.19  \n",
      "\n",
      "[4014 rows x 9 columns]\n"
     ]
    }
   ],
   "source": [
    "print(data)"
   ]
  },
  {
   "cell_type": "code",
   "execution_count": 30,
   "id": "pursuant-implement",
   "metadata": {},
   "outputs": [],
   "source": [
    "conn = pyodbc.connect('Driver={SQL Server};'\n",
    "                      'Server=DESKTOP-28C21QU;'\n",
    "                      'Database=powerbi;'\n",
    "                      'Trusted_Connection=yes;')\n",
    "cursor = conn.cursor()"
   ]
  },
  {
   "cell_type": "code",
   "execution_count": 31,
   "id": "other-sugar",
   "metadata": {},
   "outputs": [],
   "source": [
    "df = pd.DataFrame(data, columns= ['CustomerID','Name','Surname','Gender','Age','Region','JobClassification','DateJoined','Balance'])"
   ]
  },
  {
   "cell_type": "code",
   "execution_count": 32,
   "id": "provincial-dating",
   "metadata": {},
   "outputs": [],
   "source": [
    "df.replace([np.inf, -np.inf], np.nan, inplace = True)\n",
    "df = df.fillna(0)"
   ]
  },
  {
   "cell_type": "code",
   "execution_count": 36,
   "id": "incorporate-final",
   "metadata": {},
   "outputs": [
    {
     "data": {
      "text/plain": [
       "<pyodbc.Cursor at 0x2a96ba078b0>"
      ]
     },
     "execution_count": 36,
     "metadata": {},
     "output_type": "execute_result"
    }
   ],
   "source": [
    "cursor.execute('CREATE TABLE Customerss (CustomerID int,Name nvarchar(50),Surname nvarchar(50),Gender nvarchar(50),Age int,Region nvarchar(50),JobClassification nvarchar(50),DateJoined datetime,Balance float)')"
   ]
  },
  {
   "cell_type": "code",
   "execution_count": 28,
   "id": "floating-bonus",
   "metadata": {},
   "outputs": [
    {
     "data": {
      "text/plain": [
       "<pyodbc.Cursor at 0x2a96b86d9b0>"
      ]
     },
     "execution_count": 28,
     "metadata": {},
     "output_type": "execute_result"
    }
   ],
   "source": [
    "cursor.execute('CREATE TABLE people_info (Name nvarchar(50), Country nvarchar(50), Age int)')"
   ]
  },
  {
   "cell_type": "code",
   "execution_count": 37,
   "id": "victorian-investor",
   "metadata": {},
   "outputs": [],
   "source": [
    "for row in df.itertuples():\n",
    "    cursor.execute('''\n",
    "                INSERT INTO [powerbi].[dbo].[Customerss] (CustomerID,Name,Surname,Gender,Age,Region,JobClassification,DateJoined,Balance)\n",
    "                VALUES (?,?,?,?,?,?,?,?,?)\n",
    "                ''',\n",
    "                row.CustomerID, \n",
    "                row.Name,\n",
    "                row.Surname,\n",
    "                row.Gender, \n",
    "                row.Age,\n",
    "                row.Region,\n",
    "                row.JobClassification, \n",
    "                row.DateJoined,\n",
    "                row.Balance\n",
    "                )\n",
    "conn.commit()"
   ]
  },
  {
   "cell_type": "code",
   "execution_count": null,
   "id": "acknowledged-greensboro",
   "metadata": {},
   "outputs": [],
   "source": []
  }
 ],
 "metadata": {
  "kernelspec": {
   "display_name": "Python 3",
   "language": "python",
   "name": "python3"
  },
  "language_info": {
   "codemirror_mode": {
    "name": "ipython",
    "version": 3
   },
   "file_extension": ".py",
   "mimetype": "text/x-python",
   "name": "python",
   "nbconvert_exporter": "python",
   "pygments_lexer": "ipython3",
   "version": "3.7.9"
  }
 },
 "nbformat": 4,
 "nbformat_minor": 5
}
